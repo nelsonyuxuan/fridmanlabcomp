{
 "cells": [
  {
   "cell_type": "code",
   "execution_count": 61,
   "id": "31f52871",
   "metadata": {},
   "outputs": [],
   "source": [
    "import pickle\n",
    "import numpy as np"
   ]
  },
  {
   "cell_type": "code",
   "execution_count": 62,
   "id": "8a39c53a",
   "metadata": {},
   "outputs": [],
   "source": [
    "with open('/Users/nelsonwu/Library/CloudStorage/OneDrive-Personal/FridmanLab/Computational_Project/neocortex_ABAN/FigureAndData/Voltage_trace.pkl', 'rb') as f:\n",
    "    data = pickle.load(f)"
   ]
  },
  {
   "cell_type": "code",
   "execution_count": 20,
   "id": "336775b5",
   "metadata": {},
   "outputs": [
    {
     "name": "stdout",
     "output_type": "stream",
     "text": [
      "{'tracesData': [{'t': array([0.000e+00, 1.000e-01, 2.000e-01, ..., 1.998e+02, 1.999e+02,\n",
      "       2.000e+02]), 'cell_0_V_soma': array([-80.        , -79.98641183, -79.97231615, ..., -74.76951643,\n",
      "       -74.76890514, -74.76829475])}, {'t': array([0.000e+00, 1.000e-01, 2.000e-01, ..., 1.998e+02, 1.999e+02,\n",
      "       2.000e+02]), 'cell_1_V_soma': array([-80.        , -79.99653291, -79.98951393, ..., -77.79018404,\n",
      "       -77.79030675, -77.79042892])}, {'t': array([0.000e+00, 1.000e-01, 2.000e-01, ..., 1.998e+02, 1.999e+02,\n",
      "       2.000e+02]), 'cell_2_V_soma': array([-80.        , -79.98641183, -79.97231615, ..., -74.21736645,\n",
      "       -74.21736104, -74.21735558])}], 'include': [('pre', 0), ('sst', 0), ('post', 0)], 'timeRange': [0, 200.0], 'oneFigPer': 'cell', 'saveData': '/Users/nelsonwu/Library/CloudStorage/OneDrive-Personal/FridmanLab/Computational_Project/neocortex_ABAN/FigureAndData/Voltage_trace.pkl', 'saveFig': '/Users/nelsonwu/Library/CloudStorage/OneDrive-Personal/FridmanLab/Computational_Project/neocortex_ABAN/FigureAndData/Disynaptic_Inhibition_LOOP_MODEL', 'showFig': True}\n",
      "[-80.         -79.98641183 -79.97231615 ... -74.21736645 -74.21736104\n",
      " -74.21735558]\n",
      "[0.000e+00 1.000e-01 2.000e-01 ... 1.998e+02 1.999e+02 2.000e+02]\n",
      "[-80.         -79.98641183 -79.97231615 ... -74.76951643 -74.76890514\n",
      " -74.76829475]\n",
      "{'t': array([0.000e+00, 1.000e-01, 2.000e-01, ..., 1.998e+02, 1.999e+02,\n",
      "       2.000e+02]), 'cell_1_V_soma': array([-80.        , -79.99653291, -79.98951393, ..., -77.79018404,\n",
      "       -77.79030675, -77.79042892])}\n"
     ]
    }
   ],
   "source": [
    "print(data)\n",
    "print(data['tracesData'][2]['cell_2_V_soma'])\n",
    "print(data['tracesData'][0]['t'])\n",
    "print(data['tracesData'][0]['cell_0_V_soma'])\n",
    "print(data['tracesData'][1])"
   ]
  },
  {
   "attachments": {},
   "cell_type": "markdown",
   "id": "a9fa057c",
   "metadata": {},
   "source": [
    "## IPSP Calculation"
   ]
  },
  {
   "cell_type": "code",
   "execution_count": 71,
   "id": "f53a4ea1",
   "metadata": {},
   "outputs": [
    {
     "name": "stdout",
     "output_type": "stream",
     "text": [
      "IPSP amplitude approximation:  1.0287525872921748\n",
      "The membrane potential when the inhibitory synapse hits:  -74.19092947674687\n",
      "The lowest membrane potential right after the inhibitory synapse hits:  -75.21968206403905\n"
     ]
    }
   ],
   "source": [
    "\n",
    "# Find the index of the voltage at 150ms\n",
    "idx_synapse_hit = np.abs(data['tracesData'][0]['t'] - 150).argmin()\n",
    "\n",
    "# Get the voltage at 150ms\n",
    "voltage_synapse = data['tracesData'][2]['cell_2_V_soma'][idx_synapse_hit]\n",
    "\n",
    "# Minimum voltage from 150ms onward \n",
    "voltage_min = np.min(data['tracesData'][2]['cell_2_V_soma'][idx_synapse_hit:])\n",
    "\n",
    "# Calculate the voltage change\n",
    "voltage_change = voltage_synapse - voltage_min\n",
    "\n",
    "print(\"IPSP amplitude approximation: \", voltage_change)\n",
    "print(\"The membrane potential when the inhibitory synapse hits: \", voltage_synapse)\n",
    "print(\"The lowest membrane potential right after the inhibitory synapse hits: \", voltage_min)"
   ]
  },
  {
   "attachments": {},
   "cell_type": "markdown",
   "id": "eb142b92",
   "metadata": {},
   "source": [
    "## EPSP Calculation"
   ]
  },
  {
   "cell_type": "code",
   "execution_count": 63,
   "id": "2e88bc7d",
   "metadata": {},
   "outputs": [
    {
     "name": "stdout",
     "output_type": "stream",
     "text": [
      "EPSP amplitude approximation:  2.026376267177298\n",
      "The membrane potential when the excitatory synapse hits:  -77.60898742016279\n",
      "The maximum membrane potential right after the excitatory synapse hits:  -75.58261115298549\n"
     ]
    }
   ],
   "source": [
    "# Find the index of the voltage at 100ms\n",
    "idx_synapse_hit = np.abs(data['tracesData'][0]['t'] - 100).argmin()\n",
    "\n",
    "# Get the voltage at 100ms\n",
    "voltage_synapse = data['tracesData'][1]['cell_1_V_soma'][idx_synapse_hit]\n",
    "\n",
    "# Maximum voltage from 100ms onward \n",
    "voltage_max = np.max(data['tracesData'][1]['cell_1_V_soma'][idx_synapse_hit:])\n",
    "\n",
    "# Calculate the voltage change\n",
    "voltage_change = voltage_max - voltage_synapse\n",
    "\n",
    "print(\"EPSP amplitude approximation: \", voltage_change)\n",
    "print(\"The membrane potential when the excitatory synapse hits: \", voltage_synapse)\n",
    "print(\"The maximum membrane potential right after the excitatory synapse hits: \", voltage_max)"
   ]
  },
  {
   "cell_type": "code",
   "execution_count": null,
   "id": "b50a1a69",
   "metadata": {},
   "outputs": [],
   "source": []
  }
 ],
 "metadata": {
  "kernelspec": {
   "display_name": "Python 3 (ipykernel)",
   "language": "python",
   "name": "python3"
  },
  "language_info": {
   "codemirror_mode": {
    "name": "ipython",
    "version": 3
   },
   "file_extension": ".py",
   "mimetype": "text/x-python",
   "name": "python",
   "nbconvert_exporter": "python",
   "pygments_lexer": "ipython3",
   "version": "3.9.13"
  }
 },
 "nbformat": 4,
 "nbformat_minor": 5
}

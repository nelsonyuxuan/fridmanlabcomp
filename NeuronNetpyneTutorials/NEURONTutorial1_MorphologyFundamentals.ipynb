{
 "cells": [
  {
   "cell_type": "markdown",
   "id": "44d84588",
   "metadata": {},
   "source": [
    "# NEURON Tutorial 1: Morphology Fundamentals"
   ]
  },
  {
   "cell_type": "markdown",
   "id": "38147b4c",
   "metadata": {},
   "source": [
    "## Except for the first two cells, rest of the cell blocks are pseudo codes so no need to run"
   ]
  },
  {
   "cell_type": "markdown",
   "id": "74c5e30e",
   "metadata": {},
   "source": [
    "## Summary"
   ]
  },
  {
   "cell_type": "markdown",
   "id": "b6c108bc",
   "metadata": {},
   "source": [
    "NEURON is an extremely powerful simulator that is able to simulate from point neuron to large scale morphologically correct neural network. We would begin with a basic overview on how does NEURON simulates morphologies of a real neuron."
   ]
  },
  {
   "cell_type": "markdown",
   "id": "9aef03c9",
   "metadata": {},
   "source": [
    "Given that NEURON is based on Python/HOC, we would limit our scope within Python since it is more commonly used nowadays. The tutorials of NEURON using HOC can be found in the book *The NEURON BOOK*, which is available in the free website *Library Genesis* (https://libgen.is/). -- Information provided by Anruo Shen"
   ]
  },
  {
   "cell_type": "markdown",
   "id": "38397bf4",
   "metadata": {},
   "source": [
    "## Part I: Necessary Loading/Importing"
   ]
  },
  {
   "cell_type": "markdown",
   "id": "a08869f0",
   "metadata": {},
   "source": [
    "To begin with, import the necessary packages of NEURON:"
   ]
  },
  {
   "cell_type": "code",
   "execution_count": 2,
   "id": "47779670",
   "metadata": {},
   "outputs": [],
   "source": [
    "from neuron import h"
   ]
  },
  {
   "cell_type": "markdown",
   "id": "069eac7a",
   "metadata": {},
   "source": [
    "Since every python version function of NEURON simulator is directly adapted from HOC, all NEURON functions used in python has to start with dot notation followed the package *h* (indicates HOC). If one wants to access the gui of NEURON simulator, also import gui from neuron."
   ]
  },
  {
   "cell_type": "markdown",
   "id": "4a2c5d3e",
   "metadata": {},
   "source": [
    "In addition, there are also a few HOC files that one would like to load here. These files store critical simulation functions or importing functions. These standard HOC files are automatically downloaded when NEURON is installed. "
   ]
  },
  {
   "cell_type": "code",
   "execution_count": 3,
   "id": "f2a55842",
   "metadata": {},
   "outputs": [
    {
     "data": {
      "text/plain": [
       "1.0"
      ]
     },
     "execution_count": 3,
     "metadata": {},
     "output_type": "execute_result"
    }
   ],
   "source": [
    "# Standard Simulation Functions/Parameters \n",
    "h.load_file('stdrun.hoc')\n",
    "\n",
    "# Functions that help import 3D morphology of neurons\n",
    "h.load_file('import3d.hoc')"
   ]
  },
  {
   "cell_type": "markdown",
   "id": "9c7459d7",
   "metadata": {},
   "source": [
    "## Part II: Morphology"
   ]
  },
  {
   "cell_type": "markdown",
   "id": "974914df",
   "metadata": {},
   "source": [
    "Without any additional changes or specification to the code, NEURON would use the cable equation to express morphology. If ordered by the scale from big to small: cell (neuron) >> section (compartment) >> segment. Usually, the construction order is the same as above. For a small example, consider we are constructing a neuron with one soma, one axon, and two dendrites (one apical and one basal). We would start by creating a cell class to represent the neuron. Then, within the class, we would construct four sections corresponding to four compartments: soma, axon, and two dendrites. Lastly, set up auto discretizing rule for each compartment (usually one rule for entire cell is suffcient). "
   ]
  },
  {
   "cell_type": "code",
   "execution_count": null,
   "id": "91072691",
   "metadata": {},
   "outputs": [],
   "source": [
    "# Give a name of the neuron here\n",
    "class MyCell:\n",
    "    \n",
    "    # Init function of the neuron, call necessary builder functions here\n",
    "    def __init__(self):\n",
    "        \n",
    "        # Load morphology with the file name (one can skip this part to just create sections directly)\n",
    "        self.morphology = morphology\n",
    "        \n",
    "        # Function that will help load morphology file\n",
    "        self.load_morphology()"
   ]
  },
  {
   "cell_type": "markdown",
   "id": "3adbf749",
   "metadata": {},
   "source": [
    "Inside the function, choose the Import3D function based on the file extensioin"
   ]
  },
  {
   "cell_type": "code",
   "execution_count": null,
   "id": "81e62c6b",
   "metadata": {},
   "outputs": [],
   "source": [
    "def load_morphology(self):\n",
    "    \n",
    "    # For commonly morphology file types, pick one of the two below \n",
    "    # 1. swc (usually from NeuroMorph website)\n",
    "    cell = h.Import3d_SWC_read()\n",
    "    \n",
    "    # 2. asc (usually from other models or papers, construct through parameterization)\n",
    "    cell = h.Import3d_Neurolucida3()\n",
    "    \n",
    "    # load file\n",
    "    cell.input(f\"{self.morphology}.swc\")\n",
    "    \n",
    "    # Load 3D location and instantiate the morphology\n",
    "    i3d = h.Import3d_GUI(cell, False)\n",
    "    i3d.instantiate(self)"
   ]
  },
  {
   "cell_type": "markdown",
   "id": "dadb5c4a",
   "metadata": {},
   "source": [
    "After setting up either 3d morphology or artificially creating sections of a neuron, we might consider discretizing the sections into segments for a fining simulation result. Below provides a general rule of discretizing a section of a neuron based on the *dlambda* rule from *The NEURON Book*. Feel free to discretize a section freely. However, over discretizing it would slow down simulation tremendously and unnecessary. The general rule is that we want to discretize the section into **odd** number of segments so that the center of a section is guranteed to be contained in one of the segments."
   ]
  },
  {
   "cell_type": "code",
   "execution_count": null,
   "id": "2c52f5b3",
   "metadata": {},
   "outputs": [],
   "source": [
    "def __init__(self, morphology)\n",
    "    ...\n",
    "    self.discretize()\n",
    "    ...\n",
    "    \n",
    "\n",
    "def discretize(self):\n",
    "    \n",
    "    # dlamba rule of discretize a section based on the individual section length\n",
    "    freq, d_lam = 100, 0.1\n",
    "    for sec in self.all:\n",
    "        sec.nseg = math.ceil( (sec.L/(d_lam * h.lambda_f(freq) ))/2.0 )*4 +1    "
   ]
  },
  {
   "cell_type": "markdown",
   "id": "5cbbdf96",
   "metadata": {},
   "source": [
    "Apart from importing morphology, below also provides a simple demonstration of creating sections manually. NEURON doesn't have templates for different types of compartments, such as soma, dendrite, or axon. Instead, we need to specify the morphology parameters (e.g. diameter and length) and name for each new section to identify which type is it."
   ]
  },
  {
   "cell_type": "code",
   "execution_count": null,
   "id": "0cee4d70",
   "metadata": {},
   "outputs": [],
   "source": [
    "# Create soma with 1 segment and diameter of 18.8 microns\n",
    "soma = h.Section(name = 'soma')\n",
    "soma.nseg = 1\n",
    "soma.diam = soma.L = 18.8\n",
    "\n",
    "# Create axon with 10 segments, diamter of 1.5 microns, and the length of 550 microns\n",
    "axon = h.Section(name = 'axon')\n",
    "axon.nseg = 10\n",
    "axon.diam = 1.5\n",
    "axon.L = 550"
   ]
  },
  {
   "cell_type": "markdown",
   "id": "8d69b0f9",
   "metadata": {},
   "source": [
    "Remember to connect the sections just created!"
   ]
  },
  {
   "cell_type": "code",
   "execution_count": null,
   "id": "43b56957",
   "metadata": {},
   "outputs": [],
   "source": [
    "# Connect the axon to one end of soma\n",
    "axon.connect(soma(0))"
   ]
  },
  {
   "cell_type": "markdown",
   "id": "2dd1a96c",
   "metadata": {},
   "source": [
    "Location within a section is represented by a number between 0 to 1. 0.5 indicates the center of a section."
   ]
  }
 ],
 "metadata": {
  "kernelspec": {
   "display_name": "Python 3 (ipykernel)",
   "language": "python",
   "name": "python3"
  },
  "language_info": {
   "codemirror_mode": {
    "name": "ipython",
    "version": 3
   },
   "file_extension": ".py",
   "mimetype": "text/x-python",
   "name": "python",
   "nbconvert_exporter": "python",
   "pygments_lexer": "ipython3",
   "version": "3.7.0"
  }
 },
 "nbformat": 4,
 "nbformat_minor": 5
}
